{
 "cells": [
  {
   "cell_type": "code",
   "execution_count": 1,
   "id": "7272bb13-9c2a-4c5a-916e-c3c488549839",
   "metadata": {},
   "outputs": [],
   "source": [
    "#1.\n",
    "\n",
    "class Vehicle:\n",
    "    \n",
    "    def __init__(self, name_of_vehicle, max_speed, average_of_vehicle):\n",
    "        self.name_of_vehicle = name_of_vehicle\n",
    "        self.max_speed = max_speed\n",
    "        self.average_of_vehicle = average_of_vehicle\n",
    "    "
   ]
  },
  {
   "cell_type": "code",
   "execution_count": null,
   "id": "df8c17bb-1038-4184-97f4-fb0fab4956a9",
   "metadata": {},
   "outputs": [],
   "source": [
    "#2. \n",
    "\n",
    "class Car(Vehicle):\n",
    "    \n",
    "    def seating_capacity (self, capacity):\n",
    "        return self.name_of_vehicle + \" has a seating capacity of \" + str(capacity) + \" passengers.\""
   ]
  },
  {
   "cell_type": "code",
   "execution_count": null,
   "id": "01f36373-db36-40ae-b118-16bd110c6e05",
   "metadata": {},
   "outputs": [],
   "source": [
    "#3. \n",
    "\n",
    "Multiple inheritance is a feature in object-oriented programming where a class can inherit attributes and behaviors from multiple parent classes. \n",
    "In other words, a child class can inherit from more than one base class.\n",
    "\n",
    "Here's an example code to demonstrate multiple inheritance in Python:\n",
    "\n",
    "class Animal:\n",
    "    def __init__(self, name):\n",
    "        self.name = name\n",
    "\n",
    "    def eat(self):\n",
    "        print(self.name + \" is eating.\")\n",
    "\n",
    "    def sleep(self):\n",
    "        print(self.name + \" is sleeping.\")\n",
    "\n",
    "\n",
    "class Flyable:\n",
    "    def fly(self):\n",
    "        print(self.name + \" is flying.\")\n",
    "\n",
    "\n",
    "class Bird(Animal, Flyable):\n",
    "    def __init__(self, name):\n",
    "        self.name = name\n",
    "\n",
    "    def eat(self):\n",
    "        print(self.name + \" eats.\")\n",
    "\n",
    "    def sleep(self):\n",
    "        print(self.name + \" sleeps.\")\n",
    "\n",
    "    def fly(self):\n",
    "        print(self.name + \" flies.\")"
   ]
  },
  {
   "cell_type": "code",
   "execution_count": null,
   "id": "55a833ee-aec3-4b1d-88b7-62a129ab32aa",
   "metadata": {},
   "outputs": [],
   "source": [
    "#4. \n",
    "\n",
    "In Python, getters and setters are methods used to access (get) and modify (set) the values of private attributes of a class. \n",
    "They provide a way to encapsulate access to the class's attributes, allowing you to control how the attributes are accessed or modified.\n",
    "\n",
    "Here's an example of a class with a getter and a setter method:\n",
    "\n",
    "class Person:\n",
    "    def __init__(self, name):\n",
    "        self._name = name\n",
    "\n",
    "    def get_name(self):\n",
    "        return self._name\n",
    "\n",
    "    def set_name(self, new_name):\n",
    "        self._name = new_name"
   ]
  },
  {
   "cell_type": "code",
   "execution_count": null,
   "id": "8f0dcc40-b843-413a-a784-b52aca3dacf3",
   "metadata": {},
   "outputs": [],
   "source": [
    "#5.\n",
    "\n",
    "Method overriding is a concept in object-oriented programming where a subclass provides a different implementation of a method that is already defined in its parent class. \n",
    "The subclass overrides the behavior of the inherited method with its own implementation.\n",
    "\n",
    "Here's an example code to demonstrate method overriding in Python:\n",
    "\n",
    "class Animal:\n",
    "    def sound(self):\n",
    "        print(\"The animal makes a sound.\")\n",
    "\n",
    "\n",
    "class Dog(Animal):\n",
    "    def sound(self):\n",
    "        print(\"The dog barks.\")\n",
    "\n",
    "\n",
    "class Cat(Animal):\n",
    "    def sound(self):\n",
    "        print(\"The cat meows.\")\n",
    "\n",
    "\n",
    "animal = Animal()\n",
    "animal.sound()  # Output: The animal makes a sound.\n",
    "\n",
    "dog = Dog()\n",
    "dog.sound()  # Output: The dog barks.\n",
    "\n",
    "cat = Cat()\n",
    "cat.sound()  # Output: The cat meows."
   ]
  }
 ],
 "metadata": {
  "kernelspec": {
   "display_name": "Python 3 (ipykernel)",
   "language": "python",
   "name": "python3"
  },
  "language_info": {
   "codemirror_mode": {
    "name": "ipython",
    "version": 3
   },
   "file_extension": ".py",
   "mimetype": "text/x-python",
   "name": "python",
   "nbconvert_exporter": "python",
   "pygments_lexer": "ipython3",
   "version": "3.10.8"
  }
 },
 "nbformat": 4,
 "nbformat_minor": 5
}
